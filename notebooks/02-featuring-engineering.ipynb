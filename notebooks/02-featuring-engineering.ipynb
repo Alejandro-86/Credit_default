{
 "cells": [
  {
   "cell_type": "markdown",
   "metadata": {},
   "source": [
    "# Data transformation and feature engineering\n",
    "\n",
    "This Jupyter Notebook demonstrates the data transformation and feature engineering steps of the data science workflow. The data transformation and feature engineering steps are the second step of the data science workflow:\n",
    "\n",
    "1. Data collection, cleaning, formatting and storage\n",
    "2. Data transformation and feature engineering     <--- We are here\n",
    "3. Statistical modeling and machine learning\n",
    "4. Visualization and presentation"
   ]
  },
  {
   "cell_type": "code",
   "execution_count": null,
   "metadata": {},
   "outputs": [],
   "source": [
    "# Data Transformation\n",
    "\n",
    "# Encoding Categorical Variables (if required)\n",
    "# If your dataset contains categorical variables, you may need to encode them (e.g., one-hot encoding).\n",
    "# Example: Encoding the 'category' column.\n",
    "data = pd.get_dummies(data, columns=['SEX', 'EDUCATION', 'MARRIAGE'])\n",
    "\n",
    "# Feature Scaling (if required)\n",
    "# If your dataset contains numerical variables, you may need to scale them (e.g., normalization).\n",
    "# Example: Scaling the 'age' column.\n",
    "from sklearn.preprocessing import MinMaxScaler\n",
    "scaler = MinMaxScaler()\n",
    "data['AGE'] = scaler.fit_transform(data[['AGE']])"
   ]
  }
 ],
 "metadata": {
  "language_info": {
   "name": "python"
  }
 },
 "nbformat": 4,
 "nbformat_minor": 2
}
